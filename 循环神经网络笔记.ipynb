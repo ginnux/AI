{
 "cells": [
  {
   "cell_type": "markdown",
   "id": "979e85af",
   "metadata": {},
   "source": [
    "# 循环神经网络（RNN）笔记\n",
    "## 1 简要信息\n",
    "循环神经网络的每一层不仅由上一层的输入决定，还由上一时刻当前层决定。故循环神经网络能够对时序信息有较好的拟合性。\n",
    "![rnn](https://pic1.zhimg.com/80/v2-8f534b5db1f3d8a5c4ccd029be4a15b4_720w.webp)\n",
    "\\\n",
    "可使用现成的循环神经网络`pytorch.nn.RNN`进行时序预测。\n",
    "每一层的计算为：${h_t} = \\tanh ({x_t}W_{ih}^T + {b_{ih}} + {h_{t - 1}}W_{hh}^T + {b_{hh}})$。参考文档:[pytorch.nn.RNN](https://pytorch.org/docs/stable/generated/torch.nn.RNN.html?highlight=rnn#torch.nn.RNN)。\n",
    "## 2 代码实现\n",
    "### 2.1 导入"
   ]
  },
  {
   "cell_type": "code",
   "execution_count": 1,
   "id": "c5369110",
   "metadata": {},
   "outputs": [],
   "source": [
    "import numpy as np\n",
    "import torch\n",
    "import torch.nn as nn\n",
    "import torch.optim as optim\n",
    "from matplotlib import pyplot as plt"
   ]
  },
  {
   "cell_type": "markdown",
   "id": "709b237e",
   "metadata": {},
   "source": [
    "### 2.2 神经网络"
   ]
  },
  {
   "cell_type": "code",
   "execution_count": 2,
   "id": "3e7c93e2",
   "metadata": {},
   "outputs": [],
   "source": [
    "input_size = 1\n",
    "hidden_size = 16\n",
    "output_size = 1\n",
    "forcast_length=30\n",
    "\n",
    "class Net(nn.Module):\n",
    "\n",
    "    def __init__(self, ):\n",
    "        super(Net, self).__init__()\n",
    "\n",
    "        self.rnn = nn.RNN(\n",
    "            input_size=input_size,\n",
    "            hidden_size=hidden_size,\n",
    "            num_layers=1,\n",
    "            batch_first=True,\n",
    "        )\n",
    "        for p in self.rnn.parameters():\n",
    "          nn.init.normal_(p, mean=0.0, std=0.001)\n",
    "\n",
    "        self.linear = nn.Linear(hidden_size, output_size)\n",
    "\n",
    "    def forward(self, x, hidden_prev):\n",
    "\n",
    "       out, hidden_prev = self.rnn(x, hidden_prev)\n",
    "       # [b, seq, h]\n",
    "       out = out.view(-1, hidden_size)\n",
    "       out = self.linear(out)\n",
    "       out = out.unsqueeze(dim=0)\n",
    "       return out, hidden_prev\n",
    "\n",
    "lr=0.0001\n",
    "time_step=50"
   ]
  },
  {
   "cell_type": "markdown",
   "id": "210b4215",
   "metadata": {},
   "source": [
    "### 2.3 GPU训练"
   ]
  },
  {
   "cell_type": "code",
   "execution_count": 3,
   "id": "5588780c",
   "metadata": {},
   "outputs": [
    {
     "name": "stdout",
     "output_type": "stream",
     "text": [
      "Cuda Apply!\n"
     ]
    }
   ],
   "source": [
    "if(torch.cuda.is_available()):\n",
    "    device='cuda'\n",
    "    print(\"Cuda Apply!\")\n",
    "else:\n",
    "    device='cpu'"
   ]
  },
  {
   "cell_type": "markdown",
   "id": "4b93537c",
   "metadata": {},
   "source": [
    "### 2.4 学习"
   ]
  },
  {
   "cell_type": "code",
   "execution_count": 4,
   "id": "80c4df07",
   "metadata": {},
   "outputs": [
    {
     "name": "stdout",
     "output_type": "stream",
     "text": [
      "Step:0,loss:0.029322514310479164\n",
      "Step:100,loss:0.06518818438053131\n",
      "Step:200,loss:0.07586812973022461\n",
      "Step:300,loss:0.03262605890631676\n",
      "Step:400,loss:0.05458606034517288\n",
      "Step:500,loss:0.01946837827563286\n",
      "Step:600,loss:0.04484555125236511\n",
      "Step:700,loss:0.014704450033605099\n",
      "Step:800,loss:0.01384085975587368\n",
      "Step:900,loss:0.024355219677090645\n",
      "Step:1000,loss:0.0222757738083601\n",
      "Step:1100,loss:0.01947116106748581\n",
      "Step:1200,loss:0.005568923894315958\n",
      "Step:1300,loss:0.004363061394542456\n",
      "Step:1400,loss:0.008860847912728786\n",
      "Step:1500,loss:0.006464438047260046\n",
      "Step:1600,loss:0.006209542043507099\n",
      "Step:1700,loss:0.015156352892518044\n",
      "Step:1800,loss:0.007260446436703205\n",
      "Step:1900,loss:0.00833151675760746\n",
      "Step:2000,loss:0.0064187864772975445\n",
      "Step:2100,loss:0.0018841448472812772\n",
      "Step:2200,loss:0.00633411668241024\n",
      "Step:2300,loss:0.011014576070010662\n",
      "Step:2400,loss:0.0020145555026829243\n",
      "Step:2500,loss:0.0017285229405388236\n",
      "Step:2600,loss:0.0038073472678661346\n",
      "Step:2700,loss:0.0010984486434608698\n",
      "Step:2800,loss:0.005860333330929279\n",
      "Step:2900,loss:0.0015965058701112866\n",
      "Step:3000,loss:0.00115573697257787\n",
      "Step:3100,loss:0.0061972676776349545\n",
      "Step:3200,loss:0.005347376689314842\n",
      "Step:3300,loss:0.010069786570966244\n",
      "Step:3400,loss:0.0015950137749314308\n",
      "Step:3500,loss:0.0012308958685025573\n",
      "Step:3600,loss:0.0033326148986816406\n",
      "Step:3700,loss:0.008007020689547062\n",
      "Step:3800,loss:0.0039251879788935184\n",
      "Step:3900,loss:0.0003112161357421428\n",
      "Step:4000,loss:0.005893151741474867\n",
      "Step:4100,loss:0.0057576438412070274\n",
      "Step:4200,loss:0.0006855955580249429\n",
      "Step:4300,loss:0.007630018517374992\n",
      "Step:4400,loss:0.0017217869171872735\n",
      "Step:4500,loss:0.004356796387583017\n",
      "Step:4600,loss:0.00040395933319814503\n",
      "Step:4700,loss:0.0014998398255556822\n",
      "Step:4800,loss:0.007412583567202091\n",
      "Step:4900,loss:0.008458341471850872\n",
      "Step:5000,loss:0.004731695633381605\n",
      "Step:5100,loss:0.001304748235270381\n",
      "Step:5200,loss:0.00014134396042209119\n",
      "Step:5300,loss:0.00016861945914570242\n",
      "Step:5400,loss:2.4446240786346607e-05\n",
      "Step:5500,loss:0.00015818511019460857\n",
      "Step:5600,loss:0.00403094757348299\n",
      "Step:5700,loss:8.804115350358188e-05\n",
      "Step:5800,loss:0.00455600256100297\n",
      "Step:5900,loss:0.0003168561670463532\n",
      "Step:6000,loss:0.007399519439786673\n",
      "Step:6100,loss:0.0052995625883340836\n",
      "Step:6200,loss:0.00455258134752512\n",
      "Step:6300,loss:0.0019995321054011583\n",
      "Step:6400,loss:1.4106150047155097e-05\n",
      "Step:6500,loss:0.008031406439840794\n",
      "Step:6600,loss:0.00706001790240407\n",
      "Step:6700,loss:0.002214656211435795\n",
      "Step:6800,loss:0.00014116561214905232\n",
      "Step:6900,loss:0.004068885929882526\n",
      "Step:7000,loss:0.006951310206204653\n",
      "Step:7100,loss:0.007376592140644789\n",
      "Step:7200,loss:4.698867633123882e-05\n",
      "Step:7300,loss:0.0002335666649742052\n",
      "Step:7400,loss:0.00025084364460781217\n",
      "Step:7500,loss:0.004174292087554932\n",
      "Step:7600,loss:0.004142188001424074\n",
      "Step:7700,loss:0.006657815538346767\n",
      "Step:7800,loss:5.117085947858868e-06\n",
      "Step:7900,loss:0.00033752695890143514\n",
      "Step:8000,loss:0.0051964884623885155\n",
      "Step:8100,loss:0.007200897205621004\n",
      "Step:8200,loss:0.0041842032223939896\n",
      "Step:8300,loss:1.4596055734727997e-05\n",
      "Step:8400,loss:6.480955198640004e-05\n",
      "Step:8500,loss:0.004859939217567444\n",
      "Step:8600,loss:0.002029449213296175\n",
      "Step:8700,loss:0.007331856992095709\n",
      "Step:8800,loss:0.004416544921696186\n",
      "Step:8900,loss:0.0052524893544614315\n",
      "Step:9000,loss:0.0020002208184450865\n",
      "Step:9100,loss:0.00012625748058781028\n",
      "Step:9200,loss:0.0053926510736346245\n",
      "Step:9300,loss:1.7610718714422546e-05\n",
      "Step:9400,loss:0.005053268745541573\n",
      "Step:9500,loss:0.00508079631254077\n",
      "Step:9600,loss:0.00423013512045145\n",
      "Step:9700,loss:0.007184659596532583\n",
      "Step:9800,loss:1.884913035610225e-05\n",
      "Step:9900,loss:0.005351740401238203\n"
     ]
    }
   ],
   "source": [
    "#net = nn.RNN(input_size=1, hidden_size=16,num_layers=1,batch_first=True)\n",
    "net=Net()\n",
    "net.to(device)\n",
    "lossfunction = nn.MSELoss()\n",
    "optimizer = optim.Adam(net.parameters(), lr)\n",
    "\n",
    "hidden = torch.zeros(1,1, 16)\n",
    "hidden=hidden.to(device)\n",
    "\n",
    "for iter in range(10000):\n",
    "    ranspot=np.random.randint((int)(forcast_length/5),size=1)[0]\n",
    "    Xasix=np.linspace(ranspot,ranspot+forcast_length,time_step)\n",
    "    data=np.sin(Xasix)\n",
    "    data=data*np.exp(-Xasix/10)\n",
    "\n",
    "    data.reshape(time_step,1)\n",
    "    #数据集\n",
    "    x=torch.tensor(data[:-1]).float().view(1,time_step-1,1)\n",
    "    y=torch.tensor(data[1:]).float().view(1,time_step-1,1)\n",
    "    x=x.to(device)\n",
    "    y=y.to(device)\n",
    "\n",
    "    output,hidden=net(x,hidden)\n",
    "\n",
    "#    output = output.view(-1, 16)\n",
    "#    aff=nn.Linear(16,1)\n",
    "#    output = aff(output)\n",
    "#    output = output.unsqueeze(dim=0)\n",
    "\n",
    "    hidden=hidden.detach()\n",
    "    loss=lossfunction(output,y)\n",
    "    net.zero_grad()\n",
    "    loss.backward()\n",
    "    optimizer.step()\n",
    "\n",
    "    if(iter%100 == 0):\n",
    "        print(\"Step:{},loss:{}\".format(iter,loss.item()))\n"
   ]
  },
  {
   "cell_type": "markdown",
   "id": "2e4aa60f",
   "metadata": {},
   "source": [
    "### 2.5 验证"
   ]
  },
  {
   "cell_type": "code",
   "execution_count": 5,
   "id": "a7c30b0c",
   "metadata": {},
   "outputs": [
    {
     "data": {
      "image/png": "[encoded data removed]",
      "text/plain": [
       "<Figure size 640x480 with 1 Axes>"
      ]
     },
     "metadata": {},
     "output_type": "display_data"
    }
   ],
   "source": [
    "Xasix = np.linspace(0, 0 + forcast_length, time_step)\n",
    "data=np.sin(Xasix)\n",
    "\n",
    "data=data*np.exp(-Xasix/10)\n",
    "\n",
    "data.reshape(time_step,1)\n",
    "#数据集\n",
    "x=torch.tensor(data[:-1]).float().view(1,time_step-1,1)\n",
    "y=torch.tensor(data[1:]).float().view(1,time_step-1,1)\n",
    "x=x.to(device)\n",
    "y=y.to(device)\n",
    "\n",
    "input=x\n",
    "predict,hidden=net(input,hidden)\n",
    "\n",
    "\n",
    "x=x.to('cpu')\n",
    "y=y.to('cpu')\n",
    "predict =predict.to('cpu')\n",
    "\n",
    "x = x.data.numpy().ravel()\n",
    "y = y.data.numpy().ravel()\n",
    "predict = predict.data.numpy().ravel()\n",
    "\n",
    "plt.plot(Xasix[:-1],x,label='Known')\n",
    "plt.plot(Xasix[1:],y,label='Actual')\n",
    "plt.plot(Xasix[1:],predict,label='Forecast')\n",
    "plt.scatter(Xasix[time_step-2],x[time_step-2])\n",
    "plt.scatter(Xasix[time_step-1],y[time_step-2])\n",
    "plt.scatter(Xasix[time_step-1],predict[time_step-2])\n",
    "plt.legend(loc=0)\n",
    "#plt.plot(x.predict)\n",
    "plt.show()"
   ]
  },
  {
   "cell_type": "markdown",
   "id": "5da201b7",
   "metadata": {},
   "source": [
    "### 2.6 结果\n",
    "最后一个预测数据与准确值相差不大。\n",
    "## 3 思考与问题"
   ]
  },
  {
   "cell_type": "markdown",
   "id": "52663627",
   "metadata": {},
   "source": [
    "### 3.1思考\n",
    "example.一次预测可以使用0-49号的数据预测出2-50号的值，再将预测值输入神经网络预测3-51号数据，以此类推。\n",
    "### 3.2 问题\n",
    "RNN是否能实现概率预测？给出预测准确概率？"
   ]
  },
  {
   "cell_type": "code",
   "execution_count": null,
   "id": "e1daee9e",
   "metadata": {},
   "outputs": [],
   "source": []
  }
 ],
 "metadata": {
  "kernelspec": {
   "display_name": "Python 310",
   "language": "python",
   "name": "python310"
  },
  "language_info": {
   "codemirror_mode": {
    "name": "ipython",
    "version": 3
   },
   "file_extension": ".py",
   "mimetype": "text/x-python",
   "name": "python",
   "nbconvert_exporter": "python",
   "pygments_lexer": "ipython3",
   "version": "3.10.7"
  }
 },
 "nbformat": 4,
 "nbformat_minor": 5
}
