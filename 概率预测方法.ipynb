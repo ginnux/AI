{
 "cells": [
  {
   "cell_type": "markdown",
   "id": "5eb24f48",
   "metadata": {},
   "source": [
    "# 概率预测方法\n",
    "## 1 概率预测方法分类\n",
    "一般概率预测分为两种：\n",
    "- 其一是给出预测曲线的置信区间，如95%、85%置信区间等。\n",
    "- 另一种给出的是预测曲线点的概率密度函数，通过颜色的深浅表示。\n",
    "\n",
    "## 2 常用概率预测方法记录\n",
    "### 2.1 高斯过程\n",
    "略\n",
    "### 2.2 LSTM叠加（可以是经典时序预测方法）\n",
    "利用LSTM预测出估计值（均值），然后利用其他方法建立概率范围。\n",
    "#### 2.2.1 LSTM+多元贝叶斯不确定性处理器\n",
    "（**未理解**）利用LSTM给出预测区间的散点图，再利用多元贝叶斯不确定性处理器给出置信区间。\n",
    "1. 数据转换。使用元高斯策略将具有真实空间的观测和预测数据集转换为高斯数据。\n",
    "2. 确定先验密度和似然函数。还采用元高斯策略计算先验密度函数和似然函数。\n",
    "3. 确定后验密度函数。确定先验密度和似然函数后，相应地计算后验密度函数。\n",
    "4. 概率预测。进行了蒙特卡罗模拟以创建概率预测。根据后验密度函数模拟了地平线m处观测的实现，并重复了K次蒙特卡罗模拟。\n",
    "\n",
    "论文（论文没有给出具体实现方法）：[Real-time probabilistic forecasting of river water quality under data missing situation: Deep learning plus post-processing techniques](https://www.sciencedirect.com/science/article/pii/S0022169420306247)。\n",
    "\n",
    "#### 2.2.2 LSTM+高斯混合模型 \n",
    "GMM以规定置信水平下的置信区间的形式为概率预测提供了不确定性量化。\n",
    "1. 每个GMM由k个高斯分布组成，每个高斯分布被称为一个分量。将这些分量线性相加，形成GMM概率密度函数：$p({x_i}) = \\sum\\limits_{k = 1}^K {{\\pi _k}p({x_i}|k) = \\sum\\limits_{k = 1}^K {{\\pi _k}N({x_i}|{\\mu _k},{\\Sigma _k})} } $，${\\pi _k}$为权重。\n",
    "2. EM算法： \n",
    "  1. 初始化参数\n",
    "  \n",
    "  2. 计算后验概率（E-Step）：${\\varpi _i}(k) = \\frac{{{\\pi _k}N({x_i}\\left| {{u_k},} \\right.{{\\rm{\\Sigma }}_k})}}{{\\mathop \\sum \\nolimits_{j = 1}^K {\\pi _j}N({x_i}\\left| {{u_j},} \\right.{{\\rm{\\Sigma }}_j})}}$\n",
    "\n",
    "  3. 更新参数（M-Step）：$\\begin{array}{*{20}{c}}\n",
    "{{\\pi _k} = \\frac{{{N_k}}}{N}}\\\\\n",
    "{{u_k} = \\frac{1}{{{N_k}}}\\mathop \\sum \\limits_{i = 1}^{{N_k}} {\\varpi _i}(k){x_i}}\\\\\n",
    "{{{\\rm{\\Sigma }}_k} = \\frac{1}{{{N_k}}}\\mathop \\sum \\limits_{i = 1}^{{N_k}} {\\varpi _i}(k)({x_i} - {u_k}){{({x_i} - {u_k})}^T}}\n",
    "\\end{array}$\n",
    "  4. 迭代以上步骤，直至$p({x_i})$收敛。\n",
    "\n",
    "\n",
    "论文：[Short-term forecasting and uncertainty analysis of wind turbine power based on long short-term memory network and Gaussian mixture model](https://www.sciencedirect.com/science/article/pii/S0306261919304532)\n",
    "\n",
    "\n",
    "\n",
    "### 2.3 梯度增强机\n",
    "论文：[Probabilistic gradient boosting machines for GEFCom2014 wind forecasting](https://www.sciencedirect.com/science/article/pii/S0169207016000145)\n",
    "\n",
    "### 2.4 改进深度混合密度模型\n",
    "论文：[Improved Deep Mixture Density Network for Regional Wind Power Probabilistic Forecasting](https://ieeexplore.ieee.org/abstract/document/8982039)\n",
    "\n",
    "![img1](https://ieeexplore.ieee.org/mediastore_new/IEEE/content/media/59/9119880/8982039/zhang10-2971607-large.gif)"
   ]
  },
  {
   "cell_type": "code",
   "execution_count": null,
   "id": "5b3469f3",
   "metadata": {},
   "outputs": [],
   "source": []
  }
 ],
 "metadata": {
  "kernelspec": {
   "display_name": "Python 310",
   "language": "python",
   "name": "python310"
  },
  "language_info": {
   "codemirror_mode": {
    "name": "ipython",
    "version": 3
   },
   "file_extension": ".py",
   "mimetype": "text/x-python",
   "name": "python",
   "nbconvert_exporter": "python",
   "pygments_lexer": "ipython3",
   "version": "3.10.7"
  }
 },
 "nbformat": 4,
 "nbformat_minor": 5
}
