{
 "cells": [
  {
   "cell_type": "markdown",
   "id": "e778ae7e",
   "metadata": {},
   "source": [
    "# 概率预测评估方法\n",
    "## 1 点估计\n",
    "### 1.1 归一化均方根误差\n",
    "${\\rm{nRMSE = 100}}\\; \\times \\;\\sqrt {\\frac{{\\sum\\nolimits_{i\\; = \\;1}^{{N_t}} {\\sum\\nolimits_{t\\; = {t_0}\\;}^T | } {x_{i,\\;t}}{\\rm{ - }}{\\mu _{i,\\;t}}{{\\rm{|}}^2}}}{{{N_t}(T - {t_0})}}} \\;\\% $\n",
    "### 1.2 权重均值绝对百分比误差\n",
    "${\\rm{WMAPE = 100}}\\; \\times \\;\\frac{{\\sum\\nolimits_{i = 1}^{{N_t}} {\\sum\\nolimits_{t = {t_0}}^T | } {x_{i,\\;t}}{\\rm{ - }}{\\mu _{i,t}}{\\rm{|}}}}{{\\sum\\nolimits_{i = 1}^{{N_t}} {\\sum\\nolimits_{t = {t_0}\\;}^T | } {x_{i,t}}{\\rm{|}}}}\\% $\n",
    "## 2 概率估计\n",
    "### 2.1 平均覆盖误差（ACE）\n",
    "首先求出预测区间覆盖概率：\n",
    "${\\rm{PICP}} = \\frac{{\\sum\\nolimits_{i\\; = 1}^{{N_t}} {\\sum\\nolimits_{t\\; = {t_0}\\;}^T {{c_{i,\\;t}}} } }}{{{N_t}(T - {t_0})}}$,${c_i} = \\left\\{ {\\begin{array}{*{20}{c}}\n",
    "{1,{x_{i,\\;t}} \\in [{\\rm{U}}_{i,\\;t}^{\\;\\alpha \\;},\\;{\\rm{L}}_{i,\\;t}^{\\;\\alpha \\;}]\\;}\\\\\n",
    "{0,\\;{x_{i,\\;t}}\\; \\notin [{\\rm{U}}_{i,\\;t}^{\\;\\alpha \\;},\\;{\\rm{L}}_{i,\\;t}^{\\;\\alpha \\;}]\\;}\n",
    "\\end{array}} \\right.$\n",
    "\\\n",
    "得平均覆盖误差：${\\rm{ACE = |}}\\;{\\rm{PICP - 100}}({\\rm{1 - }}\\alpha )\\% \\;{\\rm{|}}$\n",
    "### 2.2 综合锐度与准确率分数\n",
    "预测区间归一化平均宽度：${\\rm{PINAW}} = {\\rm{100}} \\times \\frac{{\\sum\\nolimits_{i = 1}^{{N_t}} {\\sum\\nolimits_{t = {t_0}\\;}^T {({\\rm{U}}_{i,\\;t}^{\\;\\alpha \\;}} }  - {\\rm{L}}_{i,\\;t}^{\\;\\alpha \\;})}}{{{N_t} \\times (T - {t_0}) \\times {\\rm{R}}}}\\% $\n",
    "\\\n",
    "综合锐度与准确率分数：${\\rm{I}}{{\\rm{S}}^\\alpha }({x_{i,\\;t}}) = \\left\\{ {\\begin{array}{*{20}{l}}\n",
    "{ - 2\\alpha ({U^\\alpha }({x_{i,{\\kern 1pt} t}}) - {L^\\alpha }({x_{i,{\\kern 1pt} t}})) - 4({L^\\alpha }({x_{i,{\\kern 1pt} t}}) - {x_{i,{\\kern 1pt} t}}),{\\mkern 1mu} if{\\mkern 1mu} {x_{i,{\\kern 1pt} t}} < {L^\\alpha }({x_{i,{\\kern 1pt} t}})}\\\\\n",
    "{ - 2\\alpha ({U^\\alpha }({x_{i,{\\kern 1pt} t}}) - {L^\\alpha }({x_{i,{\\kern 1pt} t}})),\\;\\quad \\qquad \\qquad if{\\mkern 1mu} {x_{i,{\\kern 1pt} t}} \\in P{I^\\alpha }({x_{i,{\\kern 1pt} t}})}\\\\\n",
    "{ - 2\\alpha ({U^\\alpha }({x_{i,{\\kern 1pt} t}}) - {L^\\alpha }({x_{i,{\\kern 1pt} t}})) - 4({x_{i,{\\kern 1pt} t}} - {U^\\alpha }({x_{i,{\\kern 1pt} t}})),{\\mkern 1mu} if{\\mkern 1mu} {x_{i,{\\kern 1pt} t}} > {U^\\alpha }({x_{i,{\\kern 1pt} t}})}\n",
    "\\end{array}} \\right.$\n",
    "\\\n",
    "其中${{U^\\alpha }({x_{i,{\\kern 1pt} t}})}$为置信上限，${{L^\\alpha }({x_{i,{\\kern 1pt} t}})}$为置信下限。\n",
    "## 3 部分概率预测方法评估\n",
    "在文章[An Integrated Missing-Data Tolerant Model for Probabilistic PV Power Generation Forecasting](https://ieeexplore.ieee.org/abstract/document/9697353)中，给出了LSTM、ANN（人工神经网络）、GP（高斯过程回归）的概率预测效果表，观察到，LSTM类的综合得分最高，表现优良。\n",
    "![img1](https://ieeexplore.ieee.org/mediastore_new/IEEE/content/media/59/9927170/9697353/xu.t3-3146982-large.gif)"
   ]
  },
  {
   "cell_type": "markdown",
   "id": "3819a344",
   "metadata": {},
   "source": [
    "# Transformer\n",
    "论文[Transformers in Time Series: A Survey](https://arxiv.org/abs/2202.07125)给出了Transformer在时间序列预测中的调整与优化，传统的Tansformer不适合应用于时间序列预测。（[中文笔记](https://zhuanlan.zhihu.com/p/473235278)）\n",
    "\\\n",
    "该作者在[Transformers in Time Series](https://github.com/qingsongedu/time-series-transformers-review)给出了近几年里Transformer在时间序列预测中的论文和相应的代码。"
   ]
  },
  {
   "cell_type": "code",
   "execution_count": null,
   "id": "90587ed5",
   "metadata": {},
   "outputs": [],
   "source": []
  }
 ],
 "metadata": {
  "kernelspec": {
   "display_name": "Python 3 (ipykernel)",
   "language": "python",
   "name": "python3"
  },
  "language_info": {
   "codemirror_mode": {
    "name": "ipython",
    "version": 3
   },
   "file_extension": ".py",
   "mimetype": "text/x-python",
   "name": "python",
   "nbconvert_exporter": "python",
   "pygments_lexer": "ipython3",
   "version": "3.10.7"
  }
 },
 "nbformat": 4,
 "nbformat_minor": 5
}
